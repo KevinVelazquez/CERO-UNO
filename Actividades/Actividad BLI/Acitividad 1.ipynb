{
 "cells": [
  {
   "cell_type": "markdown",
   "metadata": {},
   "source": [
    "# Actividad BLI - Semana 1\n",
    "\n",
    "Presenta un análisis sobre los datos de la OECD. En el conjunto de datos se presenta información sobre el Better Life Index (Índice de mejor vida). \n",
    "\n",
    "Contexto: Eres analista de datos para las Naciones Unidas. El consejo quisiera conocer el estado de las naciones en terminos del bienestar y contemplar las posibles acciones. La idea es presentar un análisis sobre los indicadores y su posible efecto (positivo o negativo) en el desarrollo de un país. Recuerda que no todos los participantes son expertos y necesitan que la información presentada sea clara. \n",
    "\n",
    "### Instrucciones \n",
    "Entregar un reporte ejecutivo realizado en Jupyter donde se presente la información, el método de realización, las conclusiones. \n",
    "\n",
    "  - Realiza un ánalis sencillo sobre los datos\n",
    "      - Muestra los encabezados, elimina las columnas que se consideran innecesarias algunos estadísticos básicos \n",
    "  - Escoge algunas características que desees analizar y las relaciones entre ellas. La visualización de estas relaciones, así como las conclusiones son de vital importancia\n",
    "\n",
    "  - Realiza un desarrollo de machine learning. \n",
    "      - Recuerda no segmentar los datos para lograr un entrenamiento correcto. \n",
    " \n",
    "\n",
    " Finalmente se realizará una presentación de algunos resultados escogidos al azar."
   ]
  },
  {
   "cell_type": "code",
   "execution_count": null,
   "metadata": {},
   "outputs": [],
   "source": []
  }
 ],
 "metadata": {
  "kernelspec": {
   "display_name": "Python 3",
   "language": "python",
   "name": "python3"
  },
  "language_info": {
   "codemirror_mode": {
    "name": "ipython",
    "version": 3
   },
   "file_extension": ".py",
   "mimetype": "text/x-python",
   "name": "python",
   "nbconvert_exporter": "python",
   "pygments_lexer": "ipython3",
   "version": "3.6.6"
  }
 },
 "nbformat": 4,
 "nbformat_minor": 2
}
